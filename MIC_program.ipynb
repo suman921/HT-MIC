{
 "cells": [
  {
   "cell_type": "code",
   "execution_count": 1,
   "metadata": {},
   "outputs": [],
   "source": [
    "#Imports\n",
    "import pandas as pd\n",
    "from collections import defaultdict, OrderedDict"
   ]
  },
  {
   "cell_type": "code",
   "execution_count": 2,
   "metadata": {
    "scrolled": true
   },
   "outputs": [],
   "source": [
    "#Data Reading and Formatting\n",
    "directory = r'(filepath to data)'\n",
    "OD_readings = pd.read_excel('%s\\input_data.xlsx'%directory, sheet_name = 'OD_readings')\n",
    "MIC_metadata = pd.read_excel('%s\\input_data.xlsx'%directory, sheet_name = 'MIC_metadata')\n",
    "OD_readings = OD_readings.reset_index(drop=True).set_index('Drugs')\n",
    "MIC_metadata = MIC_metadata.reset_index(drop=True).set_index('Drugs').T"
   ]
  },
  {
   "cell_type": "code",
   "execution_count": 3,
   "metadata": {},
   "outputs": [],
   "source": [
    "#Grouping the Replicates\n",
    "grouped_metadata = defaultdict(dict)\n",
    "for antibiotic in MIC_metadata.columns[:11]:\n",
    "    for concentration in set(MIC_metadata[antibiotic]):\n",
    "        grouped_metadata[antibiotic][concentration] = MIC_metadata.loc[MIC_metadata[antibiotic] == concentration].index.tolist()"
   ]
  },
  {
   "cell_type": "code",
   "execution_count": 4,
   "metadata": {},
   "outputs": [],
   "source": [
    "#Grouping the Readings\n",
    "grouped_readings = defaultdict(dict)\n",
    "for antibiotic in OD_readings.index:\n",
    "    for concentration in grouped_metadata[antibiotic].keys():\n",
    "        columns = grouped_metadata[antibiotic][concentration] \n",
    "        grouped_readings[antibiotic][concentration] = OD_readings.loc[antibiotic, columns].values\n",
    "grouped_readings = {antibiotic: OrderedDict(sorted(d.items(), key = lambda a: a[0])) for antibiotic, d in grouped_readings.items()}"
   ]
  },
  {
   "cell_type": "code",
   "execution_count": 5,
   "metadata": {},
   "outputs": [],
   "source": [
    "#Function to treat special cases\n",
    "def treat_special(reading_array, cutoff = 0.15, minimum = 0.135, maximum = 0.165):\n",
    "    if(sum(reading_array>cutoff)==2):\n",
    "        if(reading_array[reading_array <= cutoff][0]>=minimum):\n",
    "            if(i+1 < len(readings)):\n",
    "                MIC = '%s'%str(list(readings.keys())[i+1])\n",
    "            else:\n",
    "                MIC = '>%s'%str(key)\n",
    "        else:\n",
    "            if(i+1 < len(readings)):\n",
    "                MIC = '%s-%s'%(str(list(readings.keys())[i]), float(list(readings.keys())[i+1]))\n",
    "            else:\n",
    "                MIC = '%s'%str(list(readings.keys())[i])\n",
    "    elif(sum(reading_array>cutoff)==1):\n",
    "        if(reading_array[reading_array > cutoff][0]<maximum):\n",
    "            MIC = '%s'%str(list(readings.keys())[i])\n",
    "        else:\n",
    "            if(i+1 < len(readings)):\n",
    "                MIC = '%s-%s'%(str(list(readings.keys())[i]), float(list(readings.keys())[i+1]))\n",
    "            else:\n",
    "                MIC = '>%s'%str(list(readings.keys())[i])\n",
    "    return(MIC)"
   ]
  },
  {
   "cell_type": "code",
   "execution_count": 6,
   "metadata": {
    "scrolled": false
   },
   "outputs": [],
   "source": [
    "#Finding the MICs\n",
    "cutoff = 0.15\n",
    "minimum = 0.135\n",
    "maximum = 0.165\n",
    "resulting_MICs = {}\n",
    "for antibiotic, readings in grouped_readings.items():\n",
    "    res = list(readings.keys())\n",
    "    for i, key in enumerate(readings.keys()):\n",
    "        reading_concentration = list(readings.keys())[i]\n",
    "        reading_array = readings[key]\n",
    "        #print(reading_concentration ,(reading_array>cutoff))\n",
    "        if(reading_array>cutoff).all():\n",
    "            res.remove(reading_concentration)\n",
    "            #print('All true')\n",
    "        elif not(reading_array<=cutoff).all():\n",
    "            #print('special')\n",
    "            resulting_MICs[antibiotic] = treat_special(reading_array)\n",
    "            break\n",
    "        #print(antibiotic,res)\n",
    "\n",
    "        if len(res) == 0:\n",
    "             resulting_MICs[antibiotic] = '>%s'%str(max(readings.keys()))\n",
    "\n",
    "        else:      \n",
    "            resulting_MICs[antibiotic] = '%s'%str(min(res))"
   ]
  },
  {
   "cell_type": "code",
   "execution_count": 7,
   "metadata": {},
   "outputs": [],
   "source": [
    "#Output to CSV\n",
    "human_readable = pd.DataFrame(list(resulting_MICs.items()), columns = ['Antibiotic', 'MIC'])\n",
    "human_readable = human_readable.set_index('Antibiotic').loc[MIC_metadata.columns.tolist()].reset_index().drop_duplicates()\n",
    "human_readable.to_csv('%s\\MICs for (Insert Name).csv'%directory, index=None)"
   ]
  }
 ],
 "metadata": {
  "kernelspec": {
   "display_name": "Python 3 (ipykernel)",
   "language": "python",
   "name": "python3"
  },
  "language_info": {
   "codemirror_mode": {
    "name": "ipython",
    "version": 3
   },
   "file_extension": ".py",
   "mimetype": "text/x-python",
   "name": "python",
   "nbconvert_exporter": "python",
   "pygments_lexer": "ipython3",
   "version": "3.8.6"
  }
 },
 "nbformat": 4,
 "nbformat_minor": 2
}
